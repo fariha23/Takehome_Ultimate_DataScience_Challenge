{
 "cells": [
  {
   "cell_type": "code",
   "execution_count": 502,
   "metadata": {},
   "outputs": [],
   "source": [
    "import pandas as pd\n",
    "import matplotlib.pyplot as plt\n",
    "import numpy as np\n",
    "from sklearn import preprocessing\n",
    "from sklearn.ensemble import RandomForestClassifier\n",
    "from sklearn.model_selection import KFold\n",
    "from sklearn.model_selection import train_test_split\n",
    "from imblearn.over_sampling import RandomOverSampler as OverSampler\n",
    "from imblearn.over_sampling import SMOTE\n",
    "from sklearn.model_selection import GridSearchCV\n",
    "from sklearn.metrics import plot_roc_curve\n",
    "from sklearn.metrics import precision_recall_fscore_support\n",
    "from sklearn.metrics import confusion_matrix\n",
    "from sklearn.metrics import accuracy_score\n",
    "from matplotlib.dates import DateFormatter\n",
    "import matplotlib.dates as mdates\n",
    "from collections import Counter"
   ]
  },
  {
   "cell_type": "code",
   "execution_count": 510,
   "metadata": {},
   "outputs": [],
   "source": [
    "### Functions\n",
    "def feature_transformed(df,col):\n",
    "    \n",
    "    enc=preprocessing.LabelEncoder()\n",
    "    enc=enc.fit(df[col])\n",
    "    df[col]=enc.transform(df[col])\n",
    "    \n",
    "    return df\n",
    "\n",
    "def feature_importance(estimator, ax, title):\n",
    "    \n",
    "    feat_importances = pd.Series(estimator.feature_importances_, index=X.columns)\n",
    "    feat_importances.nlargest(20).plot(kind='barh', ax=ax, title=title)\n",
    "    plt.title(title)"
   ]
  },
  {
   "cell_type": "markdown",
   "metadata": {},
   "source": [
    "### Part 1 ‑ Exploratory data analysis\n",
    "\n",
    "The attached logins.json file contains (simulated) timestamps of user logins in a particular\n",
    "geographic location. Aggregate these login counts based on 15minute\n",
    "time intervals, and\n",
    "visualize and describe the resulting time series of login counts in ways that best characterize the\n",
    "underlying patterns of the demand. Please report/illustrate important features of the demand,\n",
    "such as daily cycles. If there are data quality issues, please report them."
   ]
  },
  {
   "cell_type": "code",
   "execution_count": 2,
   "metadata": {},
   "outputs": [],
   "source": [
    "df=pd.read_json('logins.json')\n",
    "df.info()"
   ]
  },
  {
   "cell_type": "code",
   "execution_count": 4,
   "metadata": {},
   "outputs": [],
   "source": [
    "df.sort_values(by='login_time', inplace=True)\n",
    "df.reset_index(inplace=True,drop=True)\n",
    "df.info()"
   ]
  },
  {
   "cell_type": "code",
   "execution_count": 6,
   "metadata": {},
   "outputs": [
    {
     "data": {
      "text/html": [
       "<div>\n",
       "<style scoped>\n",
       "    .dataframe tbody tr th:only-of-type {\n",
       "        vertical-align: middle;\n",
       "    }\n",
       "\n",
       "    .dataframe tbody tr th {\n",
       "        vertical-align: top;\n",
       "    }\n",
       "\n",
       "    .dataframe thead th {\n",
       "        text-align: right;\n",
       "    }\n",
       "</style>\n",
       "<table border=\"1\" class=\"dataframe\">\n",
       "  <thead>\n",
       "    <tr style=\"text-align: right;\">\n",
       "      <th></th>\n",
       "      <th>login_time</th>\n",
       "    </tr>\n",
       "  </thead>\n",
       "  <tbody>\n",
       "    <tr>\n",
       "      <th>0</th>\n",
       "      <td>1970-01-01 20:12:16</td>\n",
       "    </tr>\n",
       "    <tr>\n",
       "      <th>1</th>\n",
       "      <td>1970-01-01 20:13:18</td>\n",
       "    </tr>\n",
       "    <tr>\n",
       "      <th>2</th>\n",
       "      <td>1970-01-01 20:16:10</td>\n",
       "    </tr>\n",
       "    <tr>\n",
       "      <th>3</th>\n",
       "      <td>1970-01-01 20:16:36</td>\n",
       "    </tr>\n",
       "    <tr>\n",
       "      <th>4</th>\n",
       "      <td>1970-01-01 20:16:37</td>\n",
       "    </tr>\n",
       "  </tbody>\n",
       "</table>\n",
       "</div>"
      ],
      "text/plain": [
       "           login_time\n",
       "0 1970-01-01 20:12:16\n",
       "1 1970-01-01 20:13:18\n",
       "2 1970-01-01 20:16:10\n",
       "3 1970-01-01 20:16:36\n",
       "4 1970-01-01 20:16:37"
      ]
     },
     "execution_count": 6,
     "metadata": {},
     "output_type": "execute_result"
    }
   ],
   "source": [
    "df.head()"
   ]
  },
  {
   "cell_type": "code",
   "execution_count": 7,
   "metadata": {},
   "outputs": [],
   "source": [
    "df['Num_of_Logins']=1"
   ]
  },
  {
   "cell_type": "code",
   "execution_count": 8,
   "metadata": {},
   "outputs": [],
   "source": [
    "df.set_index(df.login_time, inplace=True) \n",
    "df.drop('login_time', axis=1, inplace=True)"
   ]
  },
  {
   "cell_type": "code",
   "execution_count": 9,
   "metadata": {},
   "outputs": [
    {
     "data": {
      "text/html": [
       "<div>\n",
       "<style scoped>\n",
       "    .dataframe tbody tr th:only-of-type {\n",
       "        vertical-align: middle;\n",
       "    }\n",
       "\n",
       "    .dataframe tbody tr th {\n",
       "        vertical-align: top;\n",
       "    }\n",
       "\n",
       "    .dataframe thead th {\n",
       "        text-align: right;\n",
       "    }\n",
       "</style>\n",
       "<table border=\"1\" class=\"dataframe\">\n",
       "  <thead>\n",
       "    <tr style=\"text-align: right;\">\n",
       "      <th></th>\n",
       "      <th>Num_of_Logins</th>\n",
       "    </tr>\n",
       "    <tr>\n",
       "      <th>login_time</th>\n",
       "      <th></th>\n",
       "    </tr>\n",
       "  </thead>\n",
       "  <tbody>\n",
       "    <tr>\n",
       "      <th>1970-01-01 20:00:00</th>\n",
       "      <td>2</td>\n",
       "    </tr>\n",
       "    <tr>\n",
       "      <th>1970-01-01 20:15:00</th>\n",
       "      <td>6</td>\n",
       "    </tr>\n",
       "    <tr>\n",
       "      <th>1970-01-01 20:30:00</th>\n",
       "      <td>9</td>\n",
       "    </tr>\n",
       "    <tr>\n",
       "      <th>1970-01-01 20:45:00</th>\n",
       "      <td>7</td>\n",
       "    </tr>\n",
       "    <tr>\n",
       "      <th>1970-01-01 21:00:00</th>\n",
       "      <td>1</td>\n",
       "    </tr>\n",
       "    <tr>\n",
       "      <th>...</th>\n",
       "      <td>...</td>\n",
       "    </tr>\n",
       "    <tr>\n",
       "      <th>1970-04-13 17:45:00</th>\n",
       "      <td>5</td>\n",
       "    </tr>\n",
       "    <tr>\n",
       "      <th>1970-04-13 18:00:00</th>\n",
       "      <td>5</td>\n",
       "    </tr>\n",
       "    <tr>\n",
       "      <th>1970-04-13 18:15:00</th>\n",
       "      <td>2</td>\n",
       "    </tr>\n",
       "    <tr>\n",
       "      <th>1970-04-13 18:30:00</th>\n",
       "      <td>7</td>\n",
       "    </tr>\n",
       "    <tr>\n",
       "      <th>1970-04-13 18:45:00</th>\n",
       "      <td>6</td>\n",
       "    </tr>\n",
       "  </tbody>\n",
       "</table>\n",
       "<p>9788 rows × 1 columns</p>\n",
       "</div>"
      ],
      "text/plain": [
       "                     Num_of_Logins\n",
       "login_time                        \n",
       "1970-01-01 20:00:00              2\n",
       "1970-01-01 20:15:00              6\n",
       "1970-01-01 20:30:00              9\n",
       "1970-01-01 20:45:00              7\n",
       "1970-01-01 21:00:00              1\n",
       "...                            ...\n",
       "1970-04-13 17:45:00              5\n",
       "1970-04-13 18:00:00              5\n",
       "1970-04-13 18:15:00              2\n",
       "1970-04-13 18:30:00              7\n",
       "1970-04-13 18:45:00              6\n",
       "\n",
       "[9788 rows x 1 columns]"
      ]
     },
     "execution_count": 9,
     "metadata": {},
     "output_type": "execute_result"
    }
   ],
   "source": [
    "#resampling for every 15 minutes interval\n",
    "df_15=df.resample('15T').sum()\n",
    "df_15"
   ]
  },
  {
   "cell_type": "markdown",
   "metadata": {},
   "source": [
    "#### Logins vs. Dates for df_15"
   ]
  },
  {
   "cell_type": "code",
   "execution_count": 51,
   "metadata": {},
   "outputs": [
    {
     "data": {
      "text/plain": [
       "Text(0, 0.5, 'Number of Logins')"
      ]
     },
     "execution_count": 51,
     "metadata": {},
     "output_type": "execute_result"
    },
    {
     "data": {
      "image/png": "[encoded data removed]",
      "text/plain": [
       "<Figure size 1440x576 with 1 Axes>"
      ]
     },
     "metadata": {
      "needs_background": "light"
     },
     "output_type": "display_data"
    }
   ],
   "source": [
    "plt.figure(figsize=(20,8))\n",
    "plt.plot(df_15)\n",
    "plt.xlabel('Dates')\n",
    "plt.ylabel('Number of Logins')"
   ]
  },
  {
   "cell_type": "markdown",
   "metadata": {},
   "source": [
    "#### Looks like there is a pattern here. \n",
    "#### There are 15 days chunks that look like they follow a similar pattern. At the close to 15th day, a spike occurs\n",
    "#### Also the data resemble Poission Events(discrete RV) and follow poisson distribution. \n",
    "#### Number of logins every 15 mins are independent of each other and therefore the time interval between the events is exponentially distributed (Guessing since it really looks like Possion Discrete RV Distribution)"
   ]
  },
  {
   "cell_type": "code",
   "execution_count": 207,
   "metadata": {},
   "outputs": [
    {
     "name": "stdout",
     "output_type": "stream",
     "text": [
      "Variance = 69.36212849307718\n",
      "Mean = 9.51593788312219\n"
     ]
    },
    {
     "data": {
      "image/png": "[encoded data removed]",
      "text/plain": [
       "<Figure size 720x360 with 1 Axes>"
      ]
     },
     "metadata": {
      "needs_background": "light"
     },
     "output_type": "display_data"
    }
   ],
   "source": [
    "#Lets see distribution of the logins every 15 mins: \n",
    "\n",
    "plt.figure(figsize=(10,5))\n",
    "plt.hist(df_15['Num_of_Logins'],bins=500,density=True)\n",
    "plt.xlabel(\"Number of Logins (K)\")\n",
    "plt.ylabel(\"Frequency\")\n",
    "print(\"Variance = \" + str(np.var(df_15['Num_of_Logins'])))\n",
    "print(\"Mean = \" + str(np.mean(df_15['Num_of_Logins'])))"
   ]
  },
  {
   "cell_type": "markdown",
   "metadata": {},
   "source": [
    "#### With 500 bins I can see that indeed the dist is Poisson Distributed\n",
    "#### Looks like lambda of the distribution is at 3"
   ]
  },
  {
   "cell_type": "markdown",
   "metadata": {},
   "source": [
    "### Visualize data in depth"
   ]
  },
  {
   "cell_type": "code",
   "execution_count": 489,
   "metadata": {},
   "outputs": [
    {
     "data": {
      "image/png": "[encoded data removed]",
      "text/plain": [
       "<Figure size 1440x576 with 1 Axes>"
      ]
     },
     "metadata": {
      "needs_background": "light"
     },
     "output_type": "display_data"
    }
   ],
   "source": [
    "#resampling for every day and plotting\n",
    "df_daily=df.resample('D').sum()\n",
    "\n",
    "fig, ax = plt.subplots(figsize=(20,8))\n",
    "ax.bar(df_daily.index,df_daily.Num_of_Logins)\n",
    "\n",
    "ax.set(xlabel=\"Date\",\n",
    "       ylabel=\"Number of Logins\",\n",
    "       title=\"Daily Total Rides\")\n",
    "\n",
    "\n",
    "date_form = DateFormatter(\"%m-%d\")\n",
    "ax.xaxis.set_major_formatter(date_form)"
   ]
  },
  {
   "cell_type": "markdown",
   "metadata": {},
   "source": [
    "#### In daily time series above I can see that there are clear ups and downs which can be zoomed into to see which days the logins are high and which days logins are low.\n",
    "#### Also, looks like total sum of rides increased quite a bit on 04-04. "
   ]
  },
  {
   "cell_type": "markdown",
   "metadata": {},
   "source": [
    "### How are the logins related to weekdays vs. Fri, Sat, Sunday Overall?"
   ]
  },
  {
   "cell_type": "code",
   "execution_count": 491,
   "metadata": {},
   "outputs": [],
   "source": [
    "df_fri=df.resample('W-FRI').sum()\n",
    "df_sat=df.resample('W-SAT').sum()\n",
    "df_sun=df.resample('W-SUN').sum()"
   ]
  },
  {
   "cell_type": "code",
   "execution_count": 492,
   "metadata": {},
   "outputs": [
    {
     "data": {
      "text/plain": [
       "Text(0, 0.5, 'Number of Logins')"
      ]
     },
     "execution_count": 492,
     "metadata": {},
     "output_type": "execute_result"
    },
    {
     "data": {
      "image/png": "[encoded data removed]",
      "text/plain": [
       "<Figure size 1440x576 with 1 Axes>"
      ]
     },
     "metadata": {
      "needs_background": "light"
     },
     "output_type": "display_data"
    }
   ],
   "source": [
    "fig, ax = plt.subplots(figsize=(20,8))\n",
    "plt.bar(df_fri.index,df_fri.Num_of_Logins, label=\"Friday\", color='Green', width=0.5)\n",
    "plt.bar(df_sat.index,df_sat.Num_of_Logins, label=\"Saturday\", color='Purple', width=0.5)\n",
    "plt.bar(df_sun.index,df_sun.Num_of_Logins, label=\"Sunday\", color='#A9A9A9', width=0.5)\n",
    "plt.plot(df_daily,'b--', linewidth=3, label='Daily_Totals')\n",
    "\n",
    "plt.legend()\n",
    "plt.xlabel('Dates')\n",
    "plt.ylabel('Number of Logins')"
   ]
  },
  {
   "cell_type": "markdown",
   "metadata": {},
   "source": [
    "#### As expected the logins occur most on weekends (Friday, Sat and Sun). There is no clear pattern on which day(Fri/Sat/Sun) has more than other two days\n",
    "#### Some 15 day periods have Sunday logins the most, some haves Saturday logins the most, and some have Friday logins the most"
   ]
  },
  {
   "cell_type": "markdown",
   "metadata": {},
   "source": [
    "### Hourly login rates\n",
    "#### What hours are most busy on daily basis?"
   ]
  },
  {
   "cell_type": "code",
   "execution_count": 493,
   "metadata": {},
   "outputs": [],
   "source": [
    "df_hourly=df.resample('H').sum()\n",
    "df_hourly['hour']=df_hourly.index.hour\n",
    "df_hourly['day_name']=df_hourly.index.day_name()"
   ]
  },
  {
   "cell_type": "code",
   "execution_count": 494,
   "metadata": {},
   "outputs": [],
   "source": [
    "df_hourly=df_hourly.groupby(['day_name','hour'])['Num_of_Logins'].mean().unstack('day_name')"
   ]
  },
  {
   "cell_type": "code",
   "execution_count": 495,
   "metadata": {},
   "outputs": [
    {
     "data": {
      "text/plain": [
       "<matplotlib.legend.Legend at 0x19e008af3c8>"
      ]
     },
     "execution_count": 495,
     "metadata": {},
     "output_type": "execute_result"
    },
    {
     "data": {
      "image/png": "[encoded data removed]",
      "text/plain": [
       "<Figure size 1440x576 with 2 Axes>"
      ]
     },
     "metadata": {
      "needs_background": "light"
     },
     "output_type": "display_data"
    }
   ],
   "source": [
    "#fig, ax1,ax2 = plt.subplots((1,2))\n",
    "\n",
    "f, (ax1, ax2) = plt.subplots(1, 2, figsize=(20,8))\n",
    "ax1.bar(df_hourly.index,df_hourly.Monday,label='Monday', width=0.7,alpha=0.5,)\n",
    "ax1.bar(df_hourly.index,df_hourly.Tuesday,label='Tuesday', width=0.5, alpha=0.5,)\n",
    "ax1.bar(df_hourly.index,df_hourly.Wednesday,label='Wednesday', width=0.6, alpha=0.5)\n",
    "ax1.bar(df_hourly.index,df_hourly.Thursday,label='Thursday', width=0.3, alpha=0.5)\n",
    "ax1.set_xlabel('Hour of the Day')\n",
    "ax1.set_ylabel(\"Number of Logins\")\n",
    "ax1.set_xticks(np.arange(0,24))\n",
    "ax1.legend()\n",
    "ax2.bar(df_hourly.index,df_hourly.Friday,label='Friday', width=0.5,alpha=0.5)\n",
    "ax2.bar(df_hourly.index,df_hourly.Saturday,label='Saturday', width=0.6, alpha=0.5)\n",
    "ax2.bar(df_hourly.index,df_hourly.Sunday,label='Sunday', width=0.3, alpha=0.5)\n",
    "ax2.set_xlabel('Hour of the Day')\n",
    "ax2.set_ylabel(\"Number of Logins\")\n",
    "ax2.set_xticks(np.arange(0,24))\n",
    "\n",
    "ax2.legend()\n"
   ]
  },
  {
   "cell_type": "markdown",
   "metadata": {},
   "source": [
    "#### From right hand side's plot: On Weekends, the late hours of the night are most busy. Sunday 4 am being the most busy hour on the weekend.\n",
    "\n",
    "#### By contrast to the weekday's, most logins are on Thurdays on almost all the hours except 7 am and 8 am.Those hours are busiest on Mondays\n",
    "\n",
    "#### On Average, Thursday 11am has about 80 logins \n",
    "#### On Average, Sunday 4am has about 140 logins\n",
    "\n",
    "#### Quite a fasinating find\n",
    "#### Looks like people take most cabs on weekdays around 11am and not as many on weekends at that hour. Work lunch hour perhaps?"
   ]
  },
  {
   "cell_type": "markdown",
   "metadata": {},
   "source": [
    "###########################################################################################################################\n",
    "\n",
    "### Part 2: Experiment and Metric Design\n",
    "The neighboring cities of Gotham and Metropolis have complementary circadian rhythms: on\n",
    "weekdays, Ultimate Gotham is most active at night, and Ultimate Metropolis is most active\n",
    "during the day. On weekends, there is reasonable activity in both cities.\n",
    "However, a toll bridge, with a two way\n",
    "toll, between the two cities causes driver partners to tend\n",
    "to be exclusive to each city. The Ultimate managers of city operations for the two cities have\n",
    "proposed an experiment to encourage driver partners to be available in both cities, by\n",
    "reimbursing all toll costs.\n",
    "1. What would you choose as the key measure of success of this experiment in\n",
    "encouraging driver partners to serve both cities, and why would you choose this metric?\n",
    "2. Describe a practical experiment you would design to compare the effectiveness of the\n",
    "proposed change in relation to the key measure of success. Please provide details on:\n",
    "a. how you will implement the experiment\n",
    "b. what statistical test(s) you will conduct to verify the significance of the\n",
    "observation\n",
    "c. how you would interpret the results and provide recommendations to the city\n",
    "operations team along with any caveats.\n",
    "\n",
    "###########################################################################################################################"
   ]
  },
  {
   "cell_type": "markdown",
   "metadata": {},
   "source": [
    "### My Answers:\n",
    "If there are tolls being collected it means there is a record of number of cars passing from Gotham to Metropolis and vice versa. \n",
    "\n",
    "Since there is more activity in Gotham at night I can assume there are more drivers in Gotham at night and since there is high activity in Metropolis in day time, I can assume that there are more drivers in Metropolis in day time. \n",
    "\n",
    "The key measure of success would be to see that number go up after the change has been implemented. For success of Gotham to Metropolis route, we could see numbers for Gotham drivers servicing Metropolis customers during night (as there are more of those in Gotham at night during weekdays, Toll numbers from G->M should increase). For Metropolis to Gotham, since there are more drivers in Metropolis in day time we could see toll routes from M->G increase in day time. \n",
    "\n",
    "Night Time could be from 6pm to 6am\n",
    "\n",
    "Day Time could be from 6am to 6 pm\n",
    "\n",
    "### Test:\n",
    "1. Hypothesis testing with \n",
    "\n",
    "H0: There is no change in numbers of 'toll paid routes' from G--> M at night time after the change has been made\n",
    "\n",
    "H1: There is an increase in number of 'toll paid routes' from G--> M at night time after the change has been made\n",
    "\n",
    "Similarly H0 and H1 for other side route will be established for day time.\n",
    "\n",
    "Since we want to collect statistics fairly quickly, I will take the sample to perform t-test, since I am assuming I will not have alot of data (<30?), and I will not have standard deviation of the population at the time of test.  \n",
    "\n",
    "\n",
    "Under H0, while performing t-test (one tail should suffice), if I find p-value smaller than the critical value at alpha=0.05, I will reject H0 in the favor of H1. If p value is greater than critical value at alpha=0.05 I will not reject H0."
   ]
  },
  {
   "cell_type": "markdown",
   "metadata": {},
   "source": [
    "### Part 3 ‑ Predictive modeling\n",
    "Ultimate is interested in predicting rider retention. To help explore this question, we have\n",
    "provided a sample dataset of a cohort of users who signed up for an Ultimate account in\n",
    "January 2014. The data was pulled several months later; we consider a user retained if they\n",
    "were “active” (i.e. took a trip) in the preceding 30 days.\n",
    "We would like you to use this data set to help understand what factors are the best predictors\n",
    "for retention, and offer suggestions to operationalize those insights to help Ultimate.\n",
    "The data is in the attached file ultimate_data_challenge.json. See below for a detailed\n",
    "description of the dataset. Please include any code you wrote for the analysis and delete the\n",
    "dataset when you have finished with the challenge.\n",
    "1. Perform any cleaning, exploratory analysis, and/or visualizations to use the provided\n",
    "data for this analysis (a few sentences/plots describing your approach will suffice). What\n",
    "fraction of the observed users were retained?\n",
    "2. Build a predictive model to help Ultimate determine whether or not a user will be active\n",
    "in their 6th month on the system. Discuss why you chose your approach, what\n",
    "alternatives you considered, and any concerns you have. How valid is your model?\n",
    "Include any key indicators of model performance.\n",
    "3. Briefly discuss how Ultimate might leverage the insights gained from the model to\n",
    "improve its longterm\n",
    "rider retention (again, a few sentences will suffice)."
   ]
  },
  {
   "cell_type": "code",
   "execution_count": 287,
   "metadata": {},
   "outputs": [],
   "source": [
    "# Create DF and explore"
   ]
  },
  {
   "cell_type": "code",
   "execution_count": 288,
   "metadata": {},
   "outputs": [],
   "source": [
    "df_ret=pd.read_json('ultimate_data_challenge.json')\n",
    "df_ret.info()\n",
    "df_ret['signup_date']= pd.to_datetime(df_ret['signup_date'])\n",
    "df_ret['last_trip_date']= pd.to_datetime(df_ret['last_trip_date'])\n",
    "#df_ret.info()"
   ]
  },
  {
   "cell_type": "markdown",
   "metadata": {},
   "source": [
    "### Which city are most users from?"
   ]
  },
  {
   "cell_type": "code",
   "execution_count": 302,
   "metadata": {},
   "outputs": [
    {
     "data": {
      "text/plain": [
       "<matplotlib.legend.Legend at 0x19dc461c4c8>"
      ]
     },
     "execution_count": 302,
     "metadata": {},
     "output_type": "execute_result"
    },
    {
     "data": {
      "image/png": "[encoded data removed]",
      "text/plain": [
       "<Figure size 432x288 with 1 Axes>"
      ]
     },
     "metadata": {
      "needs_background": "light"
     },
     "output_type": "display_data"
    }
   ],
   "source": [
    "df_ret.groupby('city').agg({'city':'count'}).plot.bar()\n",
    "plt.xlabel(' ')\n",
    "plt.ylabel('Number of Users')\n",
    "plt.legend('')"
   ]
  },
  {
   "cell_type": "markdown",
   "metadata": {},
   "source": [
    "#Most of the users are from Winterfell"
   ]
  },
  {
   "cell_type": "code",
   "execution_count": 323,
   "metadata": {},
   "outputs": [],
   "source": [
    "#Assuming the date this data was pulled is the maximum date in \"last_trip_date\"\n",
    "date_pulled=df_ret['last_trip_date'].max()\n",
    "\n",
    "#previos 30 days from date_pulled will be\n",
    "previous_30_days= date_pulled - pd.Timedelta('30 days')"
   ]
  },
  {
   "cell_type": "code",
   "execution_count": 324,
   "metadata": {},
   "outputs": [
    {
     "data": {
      "text/plain": [
       "Timestamp('2014-06-01 00:00:00')"
      ]
     },
     "execution_count": 324,
     "metadata": {},
     "output_type": "execute_result"
    }
   ],
   "source": [
    "previous_30_days"
   ]
  },
  {
   "cell_type": "code",
   "execution_count": 326,
   "metadata": {},
   "outputs": [],
   "source": [
    "#So all users who took trip on or after 2014-06-01 will be called active users\n",
    "df_ret['active']= (df_ret.last_trip_date > previous_30_days)"
   ]
  },
  {
   "cell_type": "code",
   "execution_count": 329,
   "metadata": {},
   "outputs": [
    {
     "data": {
      "text/plain": [
       "active\n",
       "False    31690\n",
       "True     18310\n",
       "Name: active, dtype: int64"
      ]
     },
     "execution_count": 329,
     "metadata": {},
     "output_type": "execute_result"
    }
   ],
   "source": [
    "df_ret.groupby('active')['active'].count()"
   ]
  },
  {
   "cell_type": "code",
   "execution_count": 498,
   "metadata": {},
   "outputs": [
    {
     "name": "stdout",
     "output_type": "stream",
     "text": [
      "37.0 percent users were retained from all the users who signed up in January \n"
     ]
    }
   ],
   "source": [
    "#There are 18,310 users who are retained. And 31,690 users were not retained\n",
    "retained_percent=round((len(df_ret[df_ret.active==True])/len(df_ret)),2)* 100\n",
    "\n",
    "print('{} percent users were retained from all the users who signed up in January '.format(retained_percent))"
   ]
  },
  {
   "cell_type": "code",
   "execution_count": 361,
   "metadata": {},
   "outputs": [],
   "source": [
    "#which users (active/nonactive) took more trips in first 30 days of signup on average?\n",
    "s2_trips30=df_ret.groupby('active')['trips_in_first_30_days'].mean()\n",
    "\n",
    "#which users(active/nonactive) traveled more avg_dist on average?\n",
    "s1_avg_dist=df_ret.groupby(['active'])['avg_dist'].mean()\n",
    "\n",
    "#which users(active/nonactive) traveled more in weekdays on average ?\n",
    "s3_weekday_pct=df_ret.groupby(['active'])['weekday_pct'].mean()\n",
    "\n",
    "#which users  (active/nonactive) paid more surge fees on average?\n",
    "s4_avg_surge=df_ret.groupby(['active'])['avg_surge'].mean()"
   ]
  },
  {
   "cell_type": "code",
   "execution_count": 378,
   "metadata": {},
   "outputs": [
    {
     "data": {
      "text/plain": [
       "<matplotlib.axes._subplots.AxesSubplot at 0x19e003e6a88>"
      ]
     },
     "execution_count": 378,
     "metadata": {},
     "output_type": "execute_result"
    },
    {
     "data": {
      "image/png": "[encoded data removed]",
      "text/plain": [
       "<Figure size 432x288 with 1 Axes>"
      ]
     },
     "metadata": {
      "needs_background": "light"
     },
     "output_type": "display_data"
    }
   ],
   "source": [
    "#Make a DF for all the above means of different features and plot them\n",
    "avg_df=pd.DataFrame({'avg_dist': s1_avg_dist,'trips_in_first30':s2_trips30, 'weekday_pct':s3_weekday_pct, 'avg_surge':s4_avg_surge})\n",
    "avg_df.plot.bar()"
   ]
  },
  {
   "cell_type": "markdown",
   "metadata": {},
   "source": [
    "#### On average seems like people who are not retained users, traveled more miles per trip(s1_avg_dist). \n",
    "#### Maybe these users needed 1 long trip and then had no use of the service\n",
    "\n",
    "#### On average retained users took 3.34 trips in first 30 days where as non_retained users tool 1.66 trips (s2_trips30)\n",
    "#### Could be a factor in retention?\n",
    "\n",
    "#### On average percent of trips traveled in a weekday was more for retained user than for non_retained. \n",
    "#### Same theory here - Maybe non-retained users take few very long trips on weekends??"
   ]
  },
  {
   "cell_type": "code",
   "execution_count": 499,
   "metadata": {},
   "outputs": [],
   "source": [
    "### FILL NAN: \n",
    "\n",
    "#phone\n",
    "df_ret.phone.fillna('iphone', inplace=True)\n",
    "\n",
    "#Av rating of driver\n",
    "df_ret.groupby(['active'])['avg_rating_of_driver'].mean()\n",
    "#active and nonactive users have given on average same ratings to their driver. I will use \n",
    "#average of 'avg_rating_of_driver' to fillna the rows with NaN\n",
    "df_ret.avg_rating_of_driver.fillna(np.mean(df_ret.avg_rating_of_driver), inplace=True)\n",
    "\n",
    "#avg_rating_by_driver\n",
    "df_ret.groupby(['active'])['avg_rating_by_driver'].mean()\n",
    "\n",
    "#active and nonactive users got same ratings from their drivers. I will use \n",
    "#average of 'avg_rating_by_driver' to fillna the rows with NaN\n",
    "df_ret.avg_rating_by_driver.fillna(np.mean(df_ret.avg_rating_by_driver), inplace=True)\n"
   ]
  },
  {
   "cell_type": "code",
   "execution_count": 422,
   "metadata": {},
   "outputs": [
    {
     "data": {
      "text/html": [
       "<div>\n",
       "<style scoped>\n",
       "    .dataframe tbody tr th:only-of-type {\n",
       "        vertical-align: middle;\n",
       "    }\n",
       "\n",
       "    .dataframe tbody tr th {\n",
       "        vertical-align: top;\n",
       "    }\n",
       "\n",
       "    .dataframe thead th {\n",
       "        text-align: right;\n",
       "    }\n",
       "</style>\n",
       "<table border=\"1\" class=\"dataframe\">\n",
       "  <thead>\n",
       "    <tr style=\"text-align: right;\">\n",
       "      <th></th>\n",
       "      <th>city</th>\n",
       "      <th>trips_in_first_30_days</th>\n",
       "      <th>signup_date</th>\n",
       "      <th>avg_rating_of_driver</th>\n",
       "      <th>avg_surge</th>\n",
       "      <th>last_trip_date</th>\n",
       "      <th>phone</th>\n",
       "      <th>surge_pct</th>\n",
       "      <th>ultimate_black_user</th>\n",
       "      <th>weekday_pct</th>\n",
       "      <th>avg_dist</th>\n",
       "      <th>avg_rating_by_driver</th>\n",
       "      <th>active</th>\n",
       "    </tr>\n",
       "  </thead>\n",
       "  <tbody>\n",
       "    <tr>\n",
       "      <th>0</th>\n",
       "      <td>1</td>\n",
       "      <td>4</td>\n",
       "      <td>2014-01-25</td>\n",
       "      <td>4.700000</td>\n",
       "      <td>1.10</td>\n",
       "      <td>2014-06-17</td>\n",
       "      <td>1</td>\n",
       "      <td>15.4</td>\n",
       "      <td>1</td>\n",
       "      <td>46.2</td>\n",
       "      <td>3.67</td>\n",
       "      <td>5.0</td>\n",
       "      <td>1</td>\n",
       "    </tr>\n",
       "    <tr>\n",
       "      <th>1</th>\n",
       "      <td>0</td>\n",
       "      <td>0</td>\n",
       "      <td>2014-01-29</td>\n",
       "      <td>5.000000</td>\n",
       "      <td>1.00</td>\n",
       "      <td>2014-05-05</td>\n",
       "      <td>0</td>\n",
       "      <td>0.0</td>\n",
       "      <td>0</td>\n",
       "      <td>50.0</td>\n",
       "      <td>8.26</td>\n",
       "      <td>5.0</td>\n",
       "      <td>0</td>\n",
       "    </tr>\n",
       "    <tr>\n",
       "      <th>2</th>\n",
       "      <td>0</td>\n",
       "      <td>3</td>\n",
       "      <td>2014-01-06</td>\n",
       "      <td>4.300000</td>\n",
       "      <td>1.00</td>\n",
       "      <td>2014-01-07</td>\n",
       "      <td>1</td>\n",
       "      <td>0.0</td>\n",
       "      <td>0</td>\n",
       "      <td>100.0</td>\n",
       "      <td>0.77</td>\n",
       "      <td>5.0</td>\n",
       "      <td>0</td>\n",
       "    </tr>\n",
       "    <tr>\n",
       "      <th>3</th>\n",
       "      <td>1</td>\n",
       "      <td>9</td>\n",
       "      <td>2014-01-10</td>\n",
       "      <td>4.600000</td>\n",
       "      <td>1.14</td>\n",
       "      <td>2014-06-29</td>\n",
       "      <td>1</td>\n",
       "      <td>20.0</td>\n",
       "      <td>1</td>\n",
       "      <td>80.0</td>\n",
       "      <td>2.36</td>\n",
       "      <td>4.9</td>\n",
       "      <td>1</td>\n",
       "    </tr>\n",
       "    <tr>\n",
       "      <th>4</th>\n",
       "      <td>2</td>\n",
       "      <td>14</td>\n",
       "      <td>2014-01-27</td>\n",
       "      <td>4.400000</td>\n",
       "      <td>1.19</td>\n",
       "      <td>2014-03-15</td>\n",
       "      <td>0</td>\n",
       "      <td>11.8</td>\n",
       "      <td>0</td>\n",
       "      <td>82.4</td>\n",
       "      <td>3.13</td>\n",
       "      <td>4.9</td>\n",
       "      <td>0</td>\n",
       "    </tr>\n",
       "    <tr>\n",
       "      <th>...</th>\n",
       "      <td>...</td>\n",
       "      <td>...</td>\n",
       "      <td>...</td>\n",
       "      <td>...</td>\n",
       "      <td>...</td>\n",
       "      <td>...</td>\n",
       "      <td>...</td>\n",
       "      <td>...</td>\n",
       "      <td>...</td>\n",
       "      <td>...</td>\n",
       "      <td>...</td>\n",
       "      <td>...</td>\n",
       "      <td>...</td>\n",
       "    </tr>\n",
       "    <tr>\n",
       "      <th>49995</th>\n",
       "      <td>1</td>\n",
       "      <td>0</td>\n",
       "      <td>2014-01-25</td>\n",
       "      <td>5.000000</td>\n",
       "      <td>1.00</td>\n",
       "      <td>2014-06-05</td>\n",
       "      <td>1</td>\n",
       "      <td>0.0</td>\n",
       "      <td>0</td>\n",
       "      <td>100.0</td>\n",
       "      <td>5.63</td>\n",
       "      <td>4.2</td>\n",
       "      <td>1</td>\n",
       "    </tr>\n",
       "    <tr>\n",
       "      <th>49996</th>\n",
       "      <td>0</td>\n",
       "      <td>1</td>\n",
       "      <td>2014-01-24</td>\n",
       "      <td>4.601559</td>\n",
       "      <td>1.00</td>\n",
       "      <td>2014-01-25</td>\n",
       "      <td>1</td>\n",
       "      <td>0.0</td>\n",
       "      <td>0</td>\n",
       "      <td>0.0</td>\n",
       "      <td>0.00</td>\n",
       "      <td>4.0</td>\n",
       "      <td>0</td>\n",
       "    </tr>\n",
       "    <tr>\n",
       "      <th>49997</th>\n",
       "      <td>2</td>\n",
       "      <td>0</td>\n",
       "      <td>2014-01-31</td>\n",
       "      <td>5.000000</td>\n",
       "      <td>1.00</td>\n",
       "      <td>2014-05-22</td>\n",
       "      <td>0</td>\n",
       "      <td>0.0</td>\n",
       "      <td>1</td>\n",
       "      <td>100.0</td>\n",
       "      <td>3.86</td>\n",
       "      <td>5.0</td>\n",
       "      <td>0</td>\n",
       "    </tr>\n",
       "    <tr>\n",
       "      <th>49998</th>\n",
       "      <td>0</td>\n",
       "      <td>2</td>\n",
       "      <td>2014-01-14</td>\n",
       "      <td>3.000000</td>\n",
       "      <td>1.00</td>\n",
       "      <td>2014-01-15</td>\n",
       "      <td>1</td>\n",
       "      <td>0.0</td>\n",
       "      <td>0</td>\n",
       "      <td>100.0</td>\n",
       "      <td>4.58</td>\n",
       "      <td>3.5</td>\n",
       "      <td>0</td>\n",
       "    </tr>\n",
       "    <tr>\n",
       "      <th>49999</th>\n",
       "      <td>0</td>\n",
       "      <td>0</td>\n",
       "      <td>2014-01-18</td>\n",
       "      <td>4.601559</td>\n",
       "      <td>1.00</td>\n",
       "      <td>2014-04-20</td>\n",
       "      <td>0</td>\n",
       "      <td>0.0</td>\n",
       "      <td>0</td>\n",
       "      <td>0.0</td>\n",
       "      <td>3.49</td>\n",
       "      <td>5.0</td>\n",
       "      <td>0</td>\n",
       "    </tr>\n",
       "  </tbody>\n",
       "</table>\n",
       "<p>50000 rows × 13 columns</p>\n",
       "</div>"
      ],
      "text/plain": [
       "       city  trips_in_first_30_days signup_date  avg_rating_of_driver  \\\n",
       "0         1                       4  2014-01-25              4.700000   \n",
       "1         0                       0  2014-01-29              5.000000   \n",
       "2         0                       3  2014-01-06              4.300000   \n",
       "3         1                       9  2014-01-10              4.600000   \n",
       "4         2                      14  2014-01-27              4.400000   \n",
       "...     ...                     ...         ...                   ...   \n",
       "49995     1                       0  2014-01-25              5.000000   \n",
       "49996     0                       1  2014-01-24              4.601559   \n",
       "49997     2                       0  2014-01-31              5.000000   \n",
       "49998     0                       2  2014-01-14              3.000000   \n",
       "49999     0                       0  2014-01-18              4.601559   \n",
       "\n",
       "       avg_surge last_trip_date  phone  surge_pct  ultimate_black_user  \\\n",
       "0           1.10     2014-06-17      1       15.4                    1   \n",
       "1           1.00     2014-05-05      0        0.0                    0   \n",
       "2           1.00     2014-01-07      1        0.0                    0   \n",
       "3           1.14     2014-06-29      1       20.0                    1   \n",
       "4           1.19     2014-03-15      0       11.8                    0   \n",
       "...          ...            ...    ...        ...                  ...   \n",
       "49995       1.00     2014-06-05      1        0.0                    0   \n",
       "49996       1.00     2014-01-25      1        0.0                    0   \n",
       "49997       1.00     2014-05-22      0        0.0                    1   \n",
       "49998       1.00     2014-01-15      1        0.0                    0   \n",
       "49999       1.00     2014-04-20      0        0.0                    0   \n",
       "\n",
       "       weekday_pct  avg_dist  avg_rating_by_driver  active  \n",
       "0             46.2      3.67                   5.0       1  \n",
       "1             50.0      8.26                   5.0       0  \n",
       "2            100.0      0.77                   5.0       0  \n",
       "3             80.0      2.36                   4.9       1  \n",
       "4             82.4      3.13                   4.9       0  \n",
       "...            ...       ...                   ...     ...  \n",
       "49995        100.0      5.63                   4.2       1  \n",
       "49996          0.0      0.00                   4.0       0  \n",
       "49997        100.0      3.86                   5.0       0  \n",
       "49998        100.0      4.58                   3.5       0  \n",
       "49999          0.0      3.49                   5.0       0  \n",
       "\n",
       "[50000 rows x 13 columns]"
      ]
     },
     "execution_count": 422,
     "metadata": {},
     "output_type": "execute_result"
    }
   ],
   "source": [
    "feature_transformed(df_ret,'city')\n",
    "feature_transformed(df_ret,'phone')\n",
    "feature_transformed(df_ret,'ultimate_black_user')\n",
    "feature_transformed(df_ret,'active')"
   ]
  },
  {
   "cell_type": "code",
   "execution_count": 503,
   "metadata": {},
   "outputs": [],
   "source": [
    "#Create train test sets\n",
    "X=df_ret.drop(['active','signup_date','last_trip_date'], axis=1) #dropping all date cols as models can't work with them\n",
    "y=df_ret['active'] #target"
   ]
  },
  {
   "cell_type": "code",
   "execution_count": 504,
   "metadata": {},
   "outputs": [
    {
     "data": {
      "text/plain": [
       "Counter({1: 18310, 0: 31690})"
      ]
     },
     "execution_count": 504,
     "metadata": {},
     "output_type": "execute_result"
    }
   ],
   "source": [
    "# see the distributions of the classes before SMOTE (Synthetic Minority Oversampling Technique)\n",
    "counter = Counter(y)\n",
    "counter\n",
    "#class 1= retained_users\n",
    "#class 0 = non_retained users"
   ]
  },
  {
   "cell_type": "code",
   "execution_count": 505,
   "metadata": {},
   "outputs": [],
   "source": [
    "X_train,X_test, y_train, y_test=train_test_split(X,y, random_state=0)"
   ]
  },
  {
   "cell_type": "code",
   "execution_count": 506,
   "metadata": {},
   "outputs": [],
   "source": [
    "oversample = SMOTE()\n",
    "X_train, y_train = oversample.fit_resample(X_train, y_train)"
   ]
  },
  {
   "cell_type": "code",
   "execution_count": 507,
   "metadata": {},
   "outputs": [
    {
     "data": {
      "text/plain": [
       "Counter({1: 23748, 0: 23748})"
      ]
     },
     "execution_count": 507,
     "metadata": {},
     "output_type": "execute_result"
    }
   ],
   "source": [
    "# see the distributions of the classes after SMOTE\n",
    "counter = Counter(y_train)\n",
    "counter"
   ]
  },
  {
   "cell_type": "markdown",
   "metadata": {},
   "source": [
    "### Using Random Forests With Defaults"
   ]
  },
  {
   "cell_type": "code",
   "execution_count": 508,
   "metadata": {},
   "outputs": [
    {
     "data": {
      "text/plain": [
       "0.76248"
      ]
     },
     "execution_count": 508,
     "metadata": {},
     "output_type": "execute_result"
    }
   ],
   "source": [
    "\n",
    "RF=RandomForestClassifier()\n",
    "RF.fit(X_train, y_train)\n",
    "\n",
    "y_pred_RF=RF.predict(X_test)\n",
    "\n",
    "accuracy_score(y_test, y_pred_RF)"
   ]
  },
  {
   "cell_type": "code",
   "execution_count": 509,
   "metadata": {},
   "outputs": [
    {
     "name": "stdout",
     "output_type": "stream",
     "text": [
      "TN= 6289\n",
      "FP= 1653\n",
      "FN= 1316\n",
      "TP= 3242\n"
     ]
    }
   ],
   "source": [
    "tn, fp, fn, tp =confusion_matrix(y_test, y_pred_RF).ravel()\n",
    "print('TN= {}'.format(tn))\n",
    "print('FP= {}'.format(fp))\n",
    "print('FN= {}'.format(fn))\n",
    "print('TP= {}'.format(tp))"
   ]
  },
  {
   "cell_type": "code",
   "execution_count": 472,
   "metadata": {},
   "outputs": [
    {
     "data": {
      "text/plain": [
       "<sklearn.metrics._plot.confusion_matrix.ConfusionMatrixDisplay at 0x19e005d5f48>"
      ]
     },
     "execution_count": 472,
     "metadata": {},
     "output_type": "execute_result"
    },
    {
     "data": {
      "image/png": "[encoded data removed]",
      "text/plain": [
       "<Figure size 432x288 with 2 Axes>"
      ]
     },
     "metadata": {
      "needs_background": "light"
     },
     "output_type": "display_data"
    }
   ],
   "source": [
    "from sklearn.metrics import plot_confusion_matrix\n",
    "plot_confusion_matrix(RF, X_test, y_test, cmap=plt.cm.Blues)"
   ]
  },
  {
   "cell_type": "code",
   "execution_count": 480,
   "metadata": {},
   "outputs": [
    {
     "name": "stdout",
     "output_type": "stream",
     "text": [
      "              precision    recall  f1-score   support\n",
      "\n",
      "           0       0.83      0.79      0.81      7942\n",
      "           1       0.66      0.71      0.69      4558\n",
      "\n",
      "    accuracy                           0.76     12500\n",
      "   macro avg       0.75      0.75      0.75     12500\n",
      "weighted avg       0.77      0.76      0.76     12500\n",
      "\n"
     ]
    }
   ],
   "source": [
    "from sklearn.metrics import classification_report\n",
    "print(classification_report(y_test,y_pred_RF))"
   ]
  },
  {
   "cell_type": "code",
   "execution_count": 511,
   "metadata": {},
   "outputs": [
    {
     "data": {
      "image/png": "[encoded data removed]",
      "text/plain": [
       "<Figure size 576x360 with 1 Axes>"
      ]
     },
     "metadata": {
      "needs_background": "light"
     },
     "output_type": "display_data"
    }
   ],
   "source": [
    "#Feature Importance (RF)\n",
    "fig, axes=plt.subplots(1,1, figsize=(8,5))\n",
    "feature_importance(RF, axes, 'RF')\n",
    "plt.tight_layout()"
   ]
  },
  {
   "cell_type": "markdown",
   "metadata": {},
   "source": [
    "### I chose Random Forest with it's default values as it is probably the best out of box classifier. \n",
    "### It produced a test accuracy of 76% which is good for practical data. Probably could be better if I try different parameters \n",
    "\n",
    "### Concerns:\n",
    "##### The data being imbalanced throughs challenges in predicting the retention users. Using SMOTE, I oversampled data and artificially made it balanced. \n",
    "##### Since the positive class is 1 = users_retended and it is in minority, I wanted to see how recall and precision scores are affected.  for class 1 recall=0.71 and precision=0.66, which means the model doesn't predict as many false negatives (i.e. retention users tagged as non_retention user) as it does FP( non_retention users tagged as retention user). This aligns well with the target at hand i.e. help Ultimate to find right people who will retain after 6 months"
   ]
  },
  {
   "cell_type": "markdown",
   "metadata": {},
   "source": [
    "## 3. Insights Gained"
   ]
  },
  {
   "cell_type": "markdown",
   "metadata": {},
   "source": [
    "Ultimate can look at avg_dist, avg_rating_by_driver, weekday_pct of a user closely. In order to make retention numbers better ultimate can engage with users, probably earlier on to give them incentives to take longer drives or incentives to rate drivers after their trips. "
   ]
  },
  {
   "cell_type": "code",
   "execution_count": null,
   "metadata": {},
   "outputs": [],
   "source": []
  }
 ],
 "metadata": {
  "kernelspec": {
   "display_name": "Python 3",
   "language": "python",
   "name": "python3"
  },
  "language_info": {
   "codemirror_mode": {
    "name": "ipython",
    "version": 3
   },
   "file_extension": ".py",
   "mimetype": "text/x-python",
   "name": "python",
   "nbconvert_exporter": "python",
   "pygments_lexer": "ipython3",
   "version": "3.7.6"
  }
 },
 "nbformat": 4,
 "nbformat_minor": 4
}
